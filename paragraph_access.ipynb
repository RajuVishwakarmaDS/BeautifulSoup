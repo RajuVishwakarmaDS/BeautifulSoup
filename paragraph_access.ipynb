{
 "cells": [
  {
   "cell_type": "code",
   "execution_count": 7,
   "metadata": {},
   "outputs": [
    {
     "name": "stdout",
     "output_type": "stream",
     "text": [
      "<Response [200]>\n",
      "Electronics & telecommunication engineering is a field of engineering that deals with the study and application of electronics, electromagnetism, digital signal processing etc. It covers a wide range of subjects including electrical circuits, microprocessors control system, signal processing, image processing, telecommunications, automation, instrumentation etc.\n",
      "Today, numerous opportunities are available to electronics and telecommunication students in terms of post-graduation& doctorate studies. Electronic engineers design and manufacture every day devices like computers, mobile phones, portable music devices, control systems, automation systems, wireless security systems etc. Different sectors in which the electronics and telecommunication students can be employed are government companies, education sector, telecom companies, arm forces. The department was established in the year 2001.it has dedicated teaching professionals. The goal of is to provide the students with a techno-excellent education and to nurture the young talent into enterprising technologists. The study environment is created within the department for the benefit of the students.\n"
     ]
    }
   ],
   "source": [
    "from bs4 import BeautifulSoup\n",
    "import requests\n",
    "\n",
    "url='https://ritgoa.ac.in/electronics-telecommunication-engineering/'\n",
    "r=requests.get(url)\n",
    "print(r)\n",
    "\n",
    "htmlcontent=r.content\n",
    "soup=BeautifulSoup(htmlcontent,'html.parser')\n",
    "\n",
    "#to access the paragraph in obtained soup\n",
    "para=soup.find('p').getText()\n",
    "\n",
    "# to access second para\n",
    "para2=soup.find('p').findNext('p').getText()\n",
    "\n",
    "# to access all the paragraphs\n",
    "for para in soup.findAll('p', limit=2):\n",
    "    print(para.get_text())"
   ]
  },
  {
   "cell_type": "code",
   "execution_count": null,
   "metadata": {},
   "outputs": [],
   "source": []
  }
 ],
 "metadata": {
  "kernelspec": {
   "display_name": "Python 3",
   "language": "python",
   "name": "python3"
  },
  "language_info": {
   "codemirror_mode": {
    "name": "ipython",
    "version": 3
   },
   "file_extension": ".py",
   "mimetype": "text/x-python",
   "name": "python",
   "nbconvert_exporter": "python",
   "pygments_lexer": "ipython3",
   "version": "3.7.4"
  }
 },
 "nbformat": 4,
 "nbformat_minor": 2
}
